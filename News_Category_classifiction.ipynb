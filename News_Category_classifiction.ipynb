{
 "cells": [
  {
   "cell_type": "code",
   "execution_count": 1,
   "metadata": {
    "executionInfo": {
     "elapsed": 406,
     "status": "ok",
     "timestamp": 1628763745628,
     "user": {
      "displayName": "Abdul Azim Khan",
      "photoUrl": "",
      "userId": "07649404245608822143"
     },
     "user_tz": -330
    },
    "id": "0Htpy4aA62Li"
   },
   "outputs": [],
   "source": [
    "# Importing libraries\n",
    "import pandas as pd\n",
    "import numpy as np\n",
    "import seaborn as sns\n",
    "import matplotlib.pyplot as plt \n",
    "%matplotlib inline"
   ]
  },
  {
   "cell_type": "code",
   "execution_count": 2,
   "metadata": {
    "executionInfo": {
     "elapsed": 964,
     "status": "ok",
     "timestamp": 1628763746582,
     "user": {
      "displayName": "Abdul Azim Khan",
      "photoUrl": "",
      "userId": "07649404245608822143"
     },
     "user_tz": -330
    },
    "id": "l8YB3wdz7BOR"
   },
   "outputs": [],
   "source": [
    "# Importing data\n",
    "df = pd.read_csv(r\"F:\\abdulazimkhan\\BI\\Capstone_Project_BI\\capstone_1\\ml-news-classification-master\\news-data.csv\")"
   ]
  },
  {
   "cell_type": "code",
   "execution_count": 3,
   "metadata": {
    "colab": {
     "base_uri": "https://localhost:8080/",
     "height": 204
    },
    "executionInfo": {
     "elapsed": 59,
     "status": "ok",
     "timestamp": 1628763746584,
     "user": {
      "displayName": "Abdul Azim Khan",
      "photoUrl": "",
      "userId": "07649404245608822143"
     },
     "user_tz": -330
    },
    "id": "ot8TpANo7BQw",
    "outputId": "24f271d8-204b-4479-dff6-8242e528bbeb"
   },
   "outputs": [
    {
     "data": {
      "text/html": [
       "<div>\n",
       "<style scoped>\n",
       "    .dataframe tbody tr th:only-of-type {\n",
       "        vertical-align: middle;\n",
       "    }\n",
       "\n",
       "    .dataframe tbody tr th {\n",
       "        vertical-align: top;\n",
       "    }\n",
       "\n",
       "    .dataframe thead th {\n",
       "        text-align: right;\n",
       "    }\n",
       "</style>\n",
       "<table border=\"1\" class=\"dataframe\">\n",
       "  <thead>\n",
       "    <tr style=\"text-align: right;\">\n",
       "      <th></th>\n",
       "      <th>category</th>\n",
       "      <th>text</th>\n",
       "    </tr>\n",
       "  </thead>\n",
       "  <tbody>\n",
       "    <tr>\n",
       "      <th>0</th>\n",
       "      <td>tech</td>\n",
       "      <td>tv future in the hands of viewers with home th...</td>\n",
       "    </tr>\n",
       "    <tr>\n",
       "      <th>1</th>\n",
       "      <td>business</td>\n",
       "      <td>worldcom boss  left books alone  former worldc...</td>\n",
       "    </tr>\n",
       "    <tr>\n",
       "      <th>2</th>\n",
       "      <td>sport</td>\n",
       "      <td>tigers wary of farrell  gamble  leicester say ...</td>\n",
       "    </tr>\n",
       "    <tr>\n",
       "      <th>3</th>\n",
       "      <td>sport</td>\n",
       "      <td>yeading face newcastle in fa cup premiership s...</td>\n",
       "    </tr>\n",
       "    <tr>\n",
       "      <th>4</th>\n",
       "      <td>entertainment</td>\n",
       "      <td>ocean s twelve raids box office ocean s twelve...</td>\n",
       "    </tr>\n",
       "  </tbody>\n",
       "</table>\n",
       "</div>"
      ],
      "text/plain": [
       "        category                                               text\n",
       "0           tech  tv future in the hands of viewers with home th...\n",
       "1       business  worldcom boss  left books alone  former worldc...\n",
       "2          sport  tigers wary of farrell  gamble  leicester say ...\n",
       "3          sport  yeading face newcastle in fa cup premiership s...\n",
       "4  entertainment  ocean s twelve raids box office ocean s twelve..."
      ]
     },
     "execution_count": 3,
     "metadata": {},
     "output_type": "execute_result"
    }
   ],
   "source": [
    "df.head()"
   ]
  },
  {
   "cell_type": "code",
   "execution_count": 4,
   "metadata": {
    "executionInfo": {
     "elapsed": 54,
     "status": "ok",
     "timestamp": 1628763746586,
     "user": {
      "displayName": "Abdul Azim Khan",
      "photoUrl": "",
      "userId": "07649404245608822143"
     },
     "user_tz": -330
    },
    "id": "d-6Rcsih7BUf"
   },
   "outputs": [],
   "source": [
    "# Setting some style to plots\n",
    "sns.set_style('darkgrid')\n",
    "colors=[\"red\",\"orange\",\"green\",\"navy\",\"blue\",\"aqua\",\"purple\",\"fuchsia\"]"
   ]
  },
  {
   "cell_type": "code",
   "execution_count": 5,
   "metadata": {
    "executionInfo": {
     "elapsed": 55,
     "status": "ok",
     "timestamp": 1628763746588,
     "user": {
      "displayName": "Abdul Azim Khan",
      "photoUrl": "",
      "userId": "07649404245608822143"
     },
     "user_tz": -330
    },
    "id": "yRYnZN1C7Cip"
   },
   "outputs": [],
   "source": [
    "# Supressing warnings\n",
    "import warnings\n",
    "warnings.filterwarnings(\"ignore\")"
   ]
  },
  {
   "cell_type": "code",
   "execution_count": 6,
   "metadata": {
    "colab": {
     "base_uri": "https://localhost:8080/"
    },
    "executionInfo": {
     "elapsed": 54,
     "status": "ok",
     "timestamp": 1628763746589,
     "user": {
      "displayName": "Abdul Azim Khan",
      "photoUrl": "",
      "userId": "07649404245608822143"
     },
     "user_tz": -330
    },
    "id": "sERV3WEU7ClD",
    "outputId": "7dc079c0-ee6b-4d40-e113-fd44a9a68a6d"
   },
   "outputs": [
    {
     "name": "stdout",
     "output_type": "stream",
     "text": [
      "<class 'pandas.core.frame.DataFrame'>\n",
      "RangeIndex: 2225 entries, 0 to 2224\n",
      "Data columns (total 2 columns):\n",
      " #   Column    Non-Null Count  Dtype \n",
      "---  ------    --------------  ----- \n",
      " 0   category  2225 non-null   object\n",
      " 1   text      2225 non-null   object\n",
      "dtypes: object(2)\n",
      "memory usage: 34.9+ KB\n"
     ]
    }
   ],
   "source": [
    "df.info()"
   ]
  },
  {
   "cell_type": "code",
   "execution_count": 7,
   "metadata": {
    "executionInfo": {
     "elapsed": 46,
     "status": "ok",
     "timestamp": 1628763746591,
     "user": {
      "displayName": "Abdul Azim Khan",
      "photoUrl": "",
      "userId": "07649404245608822143"
     },
     "user_tz": -330
    },
    "id": "FEMQ0RXM_HRY"
   },
   "outputs": [],
   "source": [
    "# Dropping duplicates if any\n",
    "df.drop_duplicates(keep=\"first\",inplace=True)"
   ]
  },
  {
   "cell_type": "code",
   "execution_count": 8,
   "metadata": {
    "colab": {
     "base_uri": "https://localhost:8080/"
    },
    "executionInfo": {
     "elapsed": 47,
     "status": "ok",
     "timestamp": 1628763746593,
     "user": {
      "displayName": "Abdul Azim Khan",
      "photoUrl": "",
      "userId": "07649404245608822143"
     },
     "user_tz": -330
    },
    "id": "jVGxqTpQ_Kcj",
    "outputId": "3ce28d5e-336e-4265-cd64-d373ab98856e"
   },
   "outputs": [
    {
     "name": "stdout",
     "output_type": "stream",
     "text": [
      "<class 'pandas.core.frame.DataFrame'>\n",
      "Int64Index: 2126 entries, 0 to 2224\n",
      "Data columns (total 2 columns):\n",
      " #   Column    Non-Null Count  Dtype \n",
      "---  ------    --------------  ----- \n",
      " 0   category  2126 non-null   object\n",
      " 1   text      2126 non-null   object\n",
      "dtypes: object(2)\n",
      "memory usage: 49.8+ KB\n"
     ]
    }
   ],
   "source": [
    "df.info()"
   ]
  },
  {
   "cell_type": "markdown",
   "metadata": {
    "id": "lfswS15z_ZOC"
   },
   "source": [
    "## Some duplicate values were there which are now been removed.\n"
   ]
  },
  {
   "cell_type": "code",
   "execution_count": 9,
   "metadata": {
    "colab": {
     "base_uri": "https://localhost:8080/",
     "height": 173
    },
    "executionInfo": {
     "elapsed": 44,
     "status": "ok",
     "timestamp": 1628763746594,
     "user": {
      "displayName": "Abdul Azim Khan",
      "photoUrl": "",
      "userId": "07649404245608822143"
     },
     "user_tz": -330
    },
    "id": "yBlU1taT7CpZ",
    "outputId": "e1d046d4-9fb1-45f9-f536-ae7718bbf3fb"
   },
   "outputs": [
    {
     "data": {
      "text/html": [
       "<div>\n",
       "<style scoped>\n",
       "    .dataframe tbody tr th:only-of-type {\n",
       "        vertical-align: middle;\n",
       "    }\n",
       "\n",
       "    .dataframe tbody tr th {\n",
       "        vertical-align: top;\n",
       "    }\n",
       "\n",
       "    .dataframe thead th {\n",
       "        text-align: right;\n",
       "    }\n",
       "</style>\n",
       "<table border=\"1\" class=\"dataframe\">\n",
       "  <thead>\n",
       "    <tr style=\"text-align: right;\">\n",
       "      <th></th>\n",
       "      <th>category</th>\n",
       "      <th>text</th>\n",
       "    </tr>\n",
       "  </thead>\n",
       "  <tbody>\n",
       "    <tr>\n",
       "      <th>count</th>\n",
       "      <td>2126</td>\n",
       "      <td>2126</td>\n",
       "    </tr>\n",
       "    <tr>\n",
       "      <th>unique</th>\n",
       "      <td>5</td>\n",
       "      <td>2126</td>\n",
       "    </tr>\n",
       "    <tr>\n",
       "      <th>top</th>\n",
       "      <td>sport</td>\n",
       "      <td>worldcom ex-boss launches defence lawyers defe...</td>\n",
       "    </tr>\n",
       "    <tr>\n",
       "      <th>freq</th>\n",
       "      <td>504</td>\n",
       "      <td>1</td>\n",
       "    </tr>\n",
       "  </tbody>\n",
       "</table>\n",
       "</div>"
      ],
      "text/plain": [
       "       category                                               text\n",
       "count      2126                                               2126\n",
       "unique        5                                               2126\n",
       "top       sport  worldcom ex-boss launches defence lawyers defe...\n",
       "freq        504                                                  1"
      ]
     },
     "execution_count": 9,
     "metadata": {},
     "output_type": "execute_result"
    }
   ],
   "source": [
    "df.describe()"
   ]
  },
  {
   "cell_type": "code",
   "execution_count": 10,
   "metadata": {
    "executionInfo": {
     "elapsed": 43,
     "status": "ok",
     "timestamp": 1628763746595,
     "user": {
      "displayName": "Abdul Azim Khan",
      "photoUrl": "",
      "userId": "07649404245608822143"
     },
     "user_tz": -330
    },
    "id": "5XTt84nH7CsG"
   },
   "outputs": [],
   "source": [
    "# function to add value labels\n",
    "def addlabels(x,y):\n",
    "    for i in range(len(x)):\n",
    "        plt.text(i,y[i],y[i])"
   ]
  },
  {
   "cell_type": "code",
   "execution_count": 11,
   "metadata": {
    "colab": {
     "base_uri": "https://localhost:8080/",
     "height": 351
    },
    "executionInfo": {
     "elapsed": 47,
     "status": "ok",
     "timestamp": 1628763746600,
     "user": {
      "displayName": "Abdul Azim Khan",
      "photoUrl": "",
      "userId": "07649404245608822143"
     },
     "user_tz": -330
    },
    "id": "-nEcLQHi7CwZ",
    "outputId": "97a664f5-1765-403a-8d50-cfd0f091c640",
    "scrolled": true
   },
   "outputs": [
    {
     "data": {
      "text/plain": [
       "<AxesSubplot:xlabel='category', ylabel='count'>"
      ]
     },
     "execution_count": 11,
     "metadata": {},
     "output_type": "execute_result"
    },
    {
     "data": {
      "image/png": "[encoded data removed]",
      "text/plain": [
       "<Figure size 720x360 with 1 Axes>"
      ]
     },
     "metadata": {},
     "output_type": "display_data"
    }
   ],
   "source": [
    "plt.figure(figsize=(10,5))\n",
    "sns.countplot(x=\"category\",data=df)"
   ]
  },
  {
   "cell_type": "markdown",
   "metadata": {},
   "source": [
    "### There is some error in seaborn count plot which can be seen compairing the number of data present in each category and bar heights. Let's do it some other way."
   ]
  },
  {
   "cell_type": "code",
   "execution_count": 12,
   "metadata": {
    "colab": {
     "base_uri": "https://localhost:8080/",
     "height": 351
    },
    "executionInfo": {
     "elapsed": 843,
     "status": "ok",
     "timestamp": 1628763747402,
     "user": {
      "displayName": "Abdul Azim Khan",
      "photoUrl": "",
      "userId": "07649404245608822143"
     },
     "user_tz": -330
    },
    "id": "uzqktJBI7Cyi",
    "outputId": "be59ee53-8619-4eb6-8c1e-28faf2c5b95e"
   },
   "outputs": [
    {
     "data": {
      "text/plain": [
       "Text(0, 0.5, 'Counts')"
      ]
     },
     "execution_count": 12,
     "metadata": {},
     "output_type": "execute_result"
    },
    {
     "data": {
      "image/png": "[encoded data removed]",
      "text/plain": [
       "<Figure size 720x360 with 1 Axes>"
      ]
     },
     "metadata": {},
     "output_type": "display_data"
    }
   ],
   "source": [
    "plt.figure(figsize=(10,5))\n",
    "plt.bar(df[\"category\"].unique(),df[\"category\"].value_counts(),color=colors)\n",
    "addlabels(df[\"category\"].unique(),df[\"category\"].value_counts())\n",
    "plt.xlabel(\"Categories\")\n",
    "plt.ylabel(\"Counts\")"
   ]
  },
  {
   "cell_type": "code",
   "execution_count": 13,
   "metadata": {
    "colab": {
     "base_uri": "https://localhost:8080/"
    },
    "executionInfo": {
     "elapsed": 44,
     "status": "ok",
     "timestamp": 1628763747404,
     "user": {
      "displayName": "Abdul Azim Khan",
      "photoUrl": "",
      "userId": "07649404245608822143"
     },
     "user_tz": -330
    },
    "id": "LvhdHOP67C2v",
    "outputId": "d82dbb91-ff4f-433d-b937-edfd7f92ce43"
   },
   "outputs": [
    {
     "data": {
      "text/plain": [
       "sport            504\n",
       "business         503\n",
       "politics         403\n",
       "entertainment    369\n",
       "tech             347\n",
       "Name: category, dtype: int64"
      ]
     },
     "execution_count": 13,
     "metadata": {},
     "output_type": "execute_result"
    }
   ],
   "source": [
    "# Value counts for each category of news\n",
    "df[\"category\"].value_counts()"
   ]
  },
  {
   "cell_type": "code",
   "execution_count": 14,
   "metadata": {
    "executionInfo": {
     "elapsed": 34,
     "status": "ok",
     "timestamp": 1628763747406,
     "user": {
      "displayName": "Abdul Azim Khan",
      "photoUrl": "",
      "userId": "07649404245608822143"
     },
     "user_tz": -330
    },
    "id": "ahN7RuZL7C5P"
   },
   "outputs": [],
   "source": [
    "# Splitting the dataframe into X=Independent variable and y=Dependent variable\n",
    "X= df[\"text\"]\n",
    "y = df[\"category\"]"
   ]
  },
  {
   "cell_type": "code",
   "execution_count": 15,
   "metadata": {
    "executionInfo": {
     "elapsed": 34,
     "status": "ok",
     "timestamp": 1628763747408,
     "user": {
      "displayName": "Abdul Azim Khan",
      "photoUrl": "",
      "userId": "07649404245608822143"
     },
     "user_tz": -330
    },
    "id": "HXB4tqDE7C97"
   },
   "outputs": [],
   "source": [
    "np.random.seed(42)"
   ]
  },
  {
   "cell_type": "code",
   "execution_count": 16,
   "metadata": {
    "executionInfo": {
     "elapsed": 33,
     "status": "ok",
     "timestamp": 1628763747411,
     "user": {
      "displayName": "Abdul Azim Khan",
      "photoUrl": "",
      "userId": "07649404245608822143"
     },
     "user_tz": -330
    },
    "id": "_MHH76V47C_q"
   },
   "outputs": [],
   "source": [
    "# Importing libraries and models\n",
    "from sklearn.feature_extraction.text import TfidfVectorizer\n",
    "from sklearn.pipeline import Pipeline\n",
    "from sklearn.feature_extraction.text import CountVectorizer\n",
    "from sklearn.feature_extraction.text import TfidfTransformer\n",
    "from sklearn.linear_model import SGDClassifier\n",
    "from sklearn.linear_model import LogisticRegression\n",
    "from sklearn.ensemble import RandomForestClassifier\n",
    "from sklearn import svm\n",
    "from sklearn.naive_bayes import BernoulliNB\n",
    "from sklearn.ensemble import GradientBoostingClassifier\n",
    "from xgboost import XGBClassifier\n",
    "from sklearn.naive_bayes import MultinomialNB"
   ]
  },
  {
   "cell_type": "code",
   "execution_count": 17,
   "metadata": {
    "executionInfo": {
     "elapsed": 32,
     "status": "ok",
     "timestamp": 1628763747412,
     "user": {
      "displayName": "Abdul Azim Khan",
      "photoUrl": "",
      "userId": "07649404245608822143"
     },
     "user_tz": -330
    },
    "id": "u-KA2AJJ7DEM"
   },
   "outputs": [],
   "source": [
    "# Saving all algorithms in a tuple so that we can check performance through iterating the tuple\n",
    "algo=(SGDClassifier(),LogisticRegression(),RandomForestClassifier(),svm.SVC(),BernoulliNB(),GradientBoostingClassifier(),XGBClassifier(),MultinomialNB())"
   ]
  },
  {
   "cell_type": "code",
   "execution_count": 18,
   "metadata": {
    "executionInfo": {
     "elapsed": 32,
     "status": "ok",
     "timestamp": 1628763747413,
     "user": {
      "displayName": "Abdul Azim Khan",
      "photoUrl": "",
      "userId": "07649404245608822143"
     },
     "user_tz": -330
    },
    "id": "2ruf4CBQ7DGi"
   },
   "outputs": [],
   "source": [
    "# Performing the train test split\n",
    "from sklearn.model_selection import train_test_split\n",
    "\n",
    "X_train,X_test,y_train,y_test = train_test_split(X,y,test_size=0.3,random_state=42)"
   ]
  },
  {
   "cell_type": "code",
   "execution_count": 19,
   "metadata": {
    "colab": {
     "base_uri": "https://localhost:8080/"
    },
    "executionInfo": {
     "elapsed": 32,
     "status": "ok",
     "timestamp": 1628763747414,
     "user": {
      "displayName": "Abdul Azim Khan",
      "photoUrl": "",
      "userId": "07649404245608822143"
     },
     "user_tz": -330
    },
    "id": "UoGyuV3m7DKw",
    "outputId": "ac8f20d5-02e9-4e2c-d98c-8f9cb71779fa"
   },
   "outputs": [
    {
     "data": {
      "text/plain": [
       "((1488,), (1488,), (638,), (638,))"
      ]
     },
     "execution_count": 19,
     "metadata": {},
     "output_type": "execute_result"
    }
   ],
   "source": [
    "X_train.shape,y_train.shape,X_test.shape,y_test.shape"
   ]
  },
  {
   "cell_type": "code",
   "execution_count": 20,
   "metadata": {
    "executionInfo": {
     "elapsed": 29,
     "status": "ok",
     "timestamp": 1628763747416,
     "user": {
      "displayName": "Abdul Azim Khan",
      "photoUrl": "",
      "userId": "07649404245608822143"
     },
     "user_tz": -330
    },
    "id": "DzLBc7XI7DM6"
   },
   "outputs": [],
   "source": [
    "from sklearn.metrics import f1_score"
   ]
  },
  {
   "cell_type": "code",
   "execution_count": 21,
   "metadata": {
    "executionInfo": {
     "elapsed": 30,
     "status": "ok",
     "timestamp": 1628763747417,
     "user": {
      "displayName": "Abdul Azim Khan",
      "photoUrl": "",
      "userId": "07649404245608822143"
     },
     "user_tz": -330
    },
    "id": "UWTyr_Pa7DRF"
   },
   "outputs": [],
   "source": [
    "# Writing a function to check the f1 score against each algorithm\n",
    "def evaluate(train_X,test_X,train_y,test_y):\n",
    "    for i in range(len(algo)):\n",
    "    \n",
    "        pipeline_all = Pipeline([(\"vect\",CountVectorizer()),(\"tfidf\",TfidfTransformer()),(\"nb\",algo[i])])\n",
    "        model = pipeline_all.fit(train_X,train_y)\n",
    "        y_predict = model.predict(test_X)\n",
    "        print(\"f1 score for: \",algo[i],\"------>\",f1_score(test_y,y_predict,average='weighted')) "
   ]
  },
  {
   "cell_type": "code",
   "execution_count": 22,
   "metadata": {
    "colab": {
     "base_uri": "https://localhost:8080/"
    },
    "executionInfo": {
     "elapsed": 93150,
     "status": "ok",
     "timestamp": 1628763840538,
     "user": {
      "displayName": "Abdul Azim Khan",
      "photoUrl": "",
      "userId": "07649404245608822143"
     },
     "user_tz": -330
    },
    "id": "Fo7Uvqkg7DTp",
    "outputId": "04a0e58e-6fb3-46e3-b4f3-750d0f84a91f",
    "scrolled": true
   },
   "outputs": [
    {
     "name": "stdout",
     "output_type": "stream",
     "text": [
      "f1 score for:  SGDClassifier() ------> 0.9796125434361976\n",
      "f1 score for:  LogisticRegression() ------> 0.9795870099131648\n",
      "f1 score for:  RandomForestClassifier() ------> 0.9557916044034765\n",
      "f1 score for:  SVC() ------> 0.9780291212365817\n",
      "f1 score for:  BernoulliNB() ------> 0.9344367919559114\n",
      "f1 score for:  GradientBoostingClassifier() ------> 0.9528553191571912\n",
      "[17:52:49] WARNING: C:/Users/Administrator/workspace/xgboost-win64_release_1.4.0/src/learner.cc:1095: Starting in XGBoost 1.3.0, the default evaluation metric used with the objective 'multi:softprob' was changed from 'merror' to 'mlogloss'. Explicitly set eval_metric if you'd like to restore the old behavior.\n",
      "f1 score for:  XGBClassifier(base_score=0.5, booster='gbtree', colsample_bylevel=1,\n",
      "              colsample_bynode=1, colsample_bytree=1, gamma=0, gpu_id=-1,\n",
      "              importance_type='gain', interaction_constraints='',\n",
      "              learning_rate=0.300000012, max_delta_step=0, max_depth=6,\n",
      "              min_child_weight=1, missing=nan, monotone_constraints='()',\n",
      "              n_estimators=100, n_jobs=4, num_parallel_tree=1,\n",
      "              objective='multi:softprob', random_state=0, reg_alpha=0,\n",
      "              reg_lambda=1, scale_pos_weight=None, subsample=1,\n",
      "              tree_method='exact', validate_parameters=1, verbosity=None) ------> 0.9497423405741138\n",
      "f1 score for:  MultinomialNB() ------> 0.9555240898367011\n"
     ]
    }
   ],
   "source": [
    "evaluate(X_train,X_test,y_train,y_test)"
   ]
  },
  {
   "cell_type": "markdown",
   "metadata": {},
   "source": [
    "### We saw the SGD and logistic regression are quiet good with f1 score values of `~0.97`.So now let's do further more experiments."
   ]
  },
  {
   "cell_type": "code",
   "execution_count": 23,
   "metadata": {
    "executionInfo": {
     "elapsed": 42,
     "status": "ok",
     "timestamp": 1628763840539,
     "user": {
      "displayName": "Abdul Azim Khan",
      "photoUrl": "",
      "userId": "07649404245608822143"
     },
     "user_tz": -330
    },
    "id": "IZj8SmlNFls-"
   },
   "outputs": [],
   "source": [
    "count_vectorizer = CountVectorizer(stop_words=\"english\")"
   ]
  },
  {
   "cell_type": "code",
   "execution_count": 24,
   "metadata": {
    "colab": {
     "base_uri": "https://localhost:8080/"
    },
    "executionInfo": {
     "elapsed": 755,
     "status": "ok",
     "timestamp": 1628763841255,
     "user": {
      "displayName": "Abdul Azim Khan",
      "photoUrl": "",
      "userId": "07649404245608822143"
     },
     "user_tz": -330
    },
    "id": "vw0Q6IXB7DXw",
    "outputId": "0c4981bc-e77d-4870-9cbe-7f43fb907322"
   },
   "outputs": [
    {
     "data": {
      "text/plain": [
       "0.9795725277856938"
      ]
     },
     "execution_count": 24,
     "metadata": {},
     "output_type": "execute_result"
    }
   ],
   "source": [
    "# Creating a pipeline for sgd classifier with certain perams to check\n",
    "pipeline_sgd = Pipeline([(\"vect\",count_vectorizer),(\"tfidf\",TfidfTransformer()),(\"nb\",SGDClassifier(loss=\"log\",max_iter=19))])\n",
    "sgd = pipeline_sgd.fit(X_train,y_train)\n",
    "y_predict = sgd.predict(X_test)\n",
    "f1_score(y_test,y_predict,average='weighted') "
   ]
  },
  {
   "cell_type": "code",
   "execution_count": 25,
   "metadata": {
    "colab": {
     "base_uri": "https://localhost:8080/"
    },
    "executionInfo": {
     "elapsed": 48127,
     "status": "ok",
     "timestamp": 1628763889376,
     "user": {
      "displayName": "Abdul Azim Khan",
      "photoUrl": "",
      "userId": "07649404245608822143"
     },
     "user_tz": -330
    },
    "id": "OMKa-e_47DZ6",
    "outputId": "87ac8658-0336-403d-cfeb-05bb1baef4a4"
   },
   "outputs": [
    {
     "name": "stdout",
     "output_type": "stream",
     "text": [
      "f1_score for  10 iteration 0.9637388483890872\n",
      "----------------------------------------------------------------------------------------\n",
      "f1_score for  20 iteration 0.9811772570332867\n",
      "----------------------------------------------------------------------------------------\n",
      "f1_score for  30 iteration 0.9795870099131648\n",
      "----------------------------------------------------------------------------------------\n",
      "f1_score for  40 iteration 0.9795870099131648\n",
      "----------------------------------------------------------------------------------------\n",
      "f1_score for  50 iteration 0.9795870099131648\n",
      "----------------------------------------------------------------------------------------\n",
      "f1_score for  60 iteration 0.9795870099131648\n",
      "----------------------------------------------------------------------------------------\n",
      "f1_score for  70 iteration 0.9795870099131648\n",
      "----------------------------------------------------------------------------------------\n",
      "f1_score for  80 iteration 0.9795870099131648\n",
      "----------------------------------------------------------------------------------------\n",
      "f1_score for  90 iteration 0.9795870099131648\n",
      "----------------------------------------------------------------------------------------\n",
      "f1_score for  100 iteration 0.9795870099131648\n",
      "----------------------------------------------------------------------------------------\n",
      "f1_score for  110 iteration 0.9795870099131648\n",
      "----------------------------------------------------------------------------------------\n",
      "f1_score for  120 iteration 0.9795870099131648\n",
      "----------------------------------------------------------------------------------------\n",
      "f1_score for  130 iteration 0.9795870099131648\n",
      "----------------------------------------------------------------------------------------\n",
      "f1_score for  140 iteration 0.9795870099131648\n",
      "----------------------------------------------------------------------------------------\n",
      "f1_score for  150 iteration 0.9795870099131648\n",
      "----------------------------------------------------------------------------------------\n",
      "f1_score for  160 iteration 0.9795870099131648\n",
      "----------------------------------------------------------------------------------------\n",
      "f1_score for  170 iteration 0.9795870099131648\n",
      "----------------------------------------------------------------------------------------\n",
      "f1_score for  180 iteration 0.9795870099131648\n",
      "----------------------------------------------------------------------------------------\n",
      "f1_score for  190 iteration 0.9795870099131648\n",
      "----------------------------------------------------------------------------------------\n"
     ]
    }
   ],
   "source": [
    "# Creating a pipeline for Logistic Regression and testing with different n_iter values\n",
    "for i in range(10,200,10):\n",
    "    pipeline_logistic = Pipeline([(\"vect\",CountVectorizer()),(\"tfidf\",TfidfTransformer()),(\"nb\",LogisticRegression(max_iter=i))])\n",
    "    lr = pipeline_logistic.fit(X_train,y_train)\n",
    "    y_predict = lr.predict(X_test)\n",
    "    print(\"f1_score for \",i,\"iteration\",f1_score(y_test,y_predict,average='weighted') )\n",
    "    print(\"----------------------------------------------------------------------------------------\")"
   ]
  },
  {
   "cell_type": "markdown",
   "metadata": {
    "id": "Fmt72ro1BMG4"
   },
   "source": [
    "## Considering the SGD Classifier and testing on realworld data"
   ]
  },
  {
   "cell_type": "code",
   "execution_count": 26,
   "metadata": {
    "executionInfo": {
     "elapsed": 42,
     "status": "ok",
     "timestamp": 1628763889378,
     "user": {
      "displayName": "Abdul Azim Khan",
      "photoUrl": "",
      "userId": "07649404245608822143"
     },
     "user_tz": -330
    },
    "id": "AvTXapwFDw8V"
   },
   "outputs": [],
   "source": [
    "count_vectorizer = CountVectorizer(stop_words=\"english\")\n",
    "tfidf =TfidfTransformer()\n"
   ]
  },
  {
   "cell_type": "code",
   "execution_count": 27,
   "metadata": {
    "executionInfo": {
     "elapsed": 431,
     "status": "ok",
     "timestamp": 1628764096290,
     "user": {
      "displayName": "Abdul Azim Khan",
      "photoUrl": "",
      "userId": "07649404245608822143"
     },
     "user_tz": -330
    },
    "id": "Q0FD8S8s7DeW"
   },
   "outputs": [],
   "source": [
    "# Saving some current newsw as list and testing on model\n",
    "new_data=[\"The unfurling of the tricolour at Times Square is part of the day-long celebrations to be organised by FIA on August 15, according to the association. The first India Day billboard at Times Square will be displayed for 24 hours, the Empire State Building will be lit in the colours of the Indian tricolour and the day will end with a gala cruise on the Hudson River to be attended by top government officials, special guests and members of the Indian American community. An Independence Day message will also be displayed on the largest Jumbotron at Times Square for 24 hours.\",\n",
    "          \"FIA's current president Anil Bansal said the organisation will also hoist the tricolour at the State Capital in Rhode Island. FIA hoisted the tricolour at Times Square on India’s independence day last year as well, the first time the Indian national flag was unfurled at the iconic New York City destination.\",\n",
    "          \"The Parliament session is over. As far as 60% of the country is concerned there has been no Parliament session. The voice of 60% of the country has been crushed, humiliated and yesterday in the Rajya Sabha physically beaten, said Rahul.\",\n",
    "          \"AFRINIC operates a number of services that are critical for the functioning and the security of the Internet globally. Any destabilization of AFRINIC will therefore have a knock-on effect not only on the Internet in Africa but everywhere. AFRINIC also manages resources for African Internet operators and any disruption in operations, even for a limited time, could impact over 452 million African Internet users\"]\n",
    "predict = sgd.predict(new_data)\n"
   ]
  },
  {
   "cell_type": "code",
   "execution_count": 28,
   "metadata": {
    "colab": {
     "base_uri": "https://localhost:8080/"
    },
    "executionInfo": {
     "elapsed": 433,
     "status": "ok",
     "timestamp": 1628764098384,
     "user": {
      "displayName": "Abdul Azim Khan",
      "photoUrl": "",
      "userId": "07649404245608822143"
     },
     "user_tz": -330
    },
    "id": "TSy9ymdi4e5W",
    "outputId": "30123aee-ce70-4430-eaa5-f5ba03155784"
   },
   "outputs": [
    {
     "data": {
      "text/plain": [
       "array(['business', 'business', 'business', 'tech'], dtype='<U13')"
      ]
     },
     "execution_count": 28,
     "metadata": {},
     "output_type": "execute_result"
    }
   ],
   "source": [
    "predict"
   ]
  },
  {
   "cell_type": "code",
   "execution_count": 29,
   "metadata": {
    "colab": {
     "base_uri": "https://localhost:8080/"
    },
    "executionInfo": {
     "elapsed": 438,
     "status": "ok",
     "timestamp": 1628764119050,
     "user": {
      "displayName": "Abdul Azim Khan",
      "photoUrl": "",
      "userId": "07649404245608822143"
     },
     "user_tz": -330
    },
    "id": "GdMYZYGf7Dlq",
    "outputId": "cdb63836-7e51-4468-a62f-b0849ffc2d9c"
   },
   "outputs": [
    {
     "data": {
      "text/plain": [
       "((4,), array(['business', 'business', 'business', 'tech'], dtype=object))"
      ]
     },
     "execution_count": 29,
     "metadata": {},
     "output_type": "execute_result"
    }
   ],
   "source": [
    "# Trying to predict hte same data with Logistic Regression\n",
    "y_predict2 = lr.predict(new_data)\n",
    "y_predict2.shape,y_predict2"
   ]
  },
  {
   "cell_type": "markdown",
   "metadata": {
    "id": "VKH1oylR6Iqc"
   },
   "source": [
    "## Saving the above two models\n"
   ]
  },
  {
   "cell_type": "code",
   "execution_count": 30,
   "metadata": {
    "executionInfo": {
     "elapsed": 462,
     "status": "ok",
     "timestamp": 1628764354887,
     "user": {
      "displayName": "Abdul Azim Khan",
      "photoUrl": "",
      "userId": "07649404245608822143"
     },
     "user_tz": -330
    },
    "id": "d6pYhc816N1A"
   },
   "outputs": [],
   "source": [
    "# import pickle"
   ]
  },
  {
   "cell_type": "code",
   "execution_count": 31,
   "metadata": {
    "executionInfo": {
     "elapsed": 446,
     "status": "ok",
     "timestamp": 1628764540664,
     "user": {
      "displayName": "Abdul Azim Khan",
      "photoUrl": "",
      "userId": "07649404245608822143"
     },
     "user_tz": -330
    },
    "id": "c_HcGfnI67-8"
   },
   "outputs": [],
   "source": [
    "# f = open(\"sgd.pickle\",\"wb\")\n",
    "# pickle.dump(sgd,f)\n",
    "# f.close()\n",
    "\n",
    "# f = open(\"lr.pickle\",\"wb\")\n",
    "# pickle.dump(lr,f)\n",
    "# f.close()"
   ]
  },
  {
   "cell_type": "code",
   "execution_count": null,
   "metadata": {
    "id": "p1iRMlSb68NA"
   },
   "outputs": [],
   "source": []
  },
  {
   "cell_type": "code",
   "execution_count": null,
   "metadata": {
    "id": "ebUFsQnN68Py"
   },
   "outputs": [],
   "source": []
  },
  {
   "cell_type": "code",
   "execution_count": null,
   "metadata": {
    "id": "O2u52Xb568Ti"
   },
   "outputs": [],
   "source": []
  },
  {
   "cell_type": "markdown",
   "metadata": {
    "id": "7A1Z1TXXBtxL"
   },
   "source": [
    "## Let's try implementing Deep Learning methodologies\n"
   ]
  },
  {
   "cell_type": "code",
   "execution_count": 32,
   "metadata": {
    "executionInfo": {
     "elapsed": 696,
     "status": "aborted",
     "timestamp": 1628763890917,
     "user": {
      "displayName": "Abdul Azim Khan",
      "photoUrl": "",
      "userId": "07649404245608822143"
     },
     "user_tz": -330
    },
    "id": "tYdvZ-oBGWn-"
   },
   "outputs": [
    {
     "name": "stderr",
     "output_type": "stream",
     "text": [
      "[nltk_data] Error loading stopwords: <urlopen error [Errno 11001]\n",
      "[nltk_data]     getaddrinfo failed>\n"
     ]
    },
    {
     "ename": "ModuleNotFoundError",
     "evalue": "No module named 'keras'",
     "output_type": "error",
     "traceback": [
      "\u001b[1;31m---------------------------------------------------------------------------\u001b[0m",
      "\u001b[1;31mModuleNotFoundError\u001b[0m                       Traceback (most recent call last)",
      "\u001b[1;32m<ipython-input-32-bc7e18bccabd>\u001b[0m in \u001b[0;36m<module>\u001b[1;34m\u001b[0m\n\u001b[0;32m      6\u001b[0m \u001b[1;32mfrom\u001b[0m \u001b[0msklearn\u001b[0m \u001b[1;32mimport\u001b[0m \u001b[0mpreprocessing\u001b[0m\u001b[1;33m\u001b[0m\u001b[1;33m\u001b[0m\u001b[0m\n\u001b[0;32m      7\u001b[0m \u001b[1;32mfrom\u001b[0m \u001b[0mtqdm\u001b[0m \u001b[1;32mimport\u001b[0m \u001b[0mtqdm\u001b[0m\u001b[1;33m\u001b[0m\u001b[1;33m\u001b[0m\u001b[0m\n\u001b[1;32m----> 8\u001b[1;33m \u001b[1;32mfrom\u001b[0m \u001b[0mkeras\u001b[0m\u001b[1;33m.\u001b[0m\u001b[0mmodels\u001b[0m \u001b[1;32mimport\u001b[0m \u001b[0mSequential\u001b[0m\u001b[1;33m\u001b[0m\u001b[1;33m\u001b[0m\u001b[0m\n\u001b[0m\u001b[0;32m      9\u001b[0m \u001b[1;32mfrom\u001b[0m \u001b[0mkeras\u001b[0m\u001b[1;33m.\u001b[0m\u001b[0mlayers\u001b[0m\u001b[1;33m.\u001b[0m\u001b[0mrecurrent\u001b[0m \u001b[1;32mimport\u001b[0m \u001b[0mLSTM\u001b[0m\u001b[1;33m,\u001b[0m \u001b[0mGRU\u001b[0m\u001b[1;33m\u001b[0m\u001b[1;33m\u001b[0m\u001b[0m\n\u001b[0;32m     10\u001b[0m \u001b[1;32mfrom\u001b[0m \u001b[0mkeras\u001b[0m\u001b[1;33m.\u001b[0m\u001b[0mlayers\u001b[0m\u001b[1;33m.\u001b[0m\u001b[0mcore\u001b[0m \u001b[1;32mimport\u001b[0m \u001b[0mDense\u001b[0m\u001b[1;33m,\u001b[0m \u001b[0mActivation\u001b[0m\u001b[1;33m,\u001b[0m \u001b[0mDropout\u001b[0m\u001b[1;33m\u001b[0m\u001b[1;33m\u001b[0m\u001b[0m\n",
      "\u001b[1;31mModuleNotFoundError\u001b[0m: No module named 'keras'"
     ]
    }
   ],
   "source": [
    "import nltk\n",
    "nltk.download('stopwords')\n",
    "from nltk.tokenize import word_tokenize\n",
    "from nltk.stem import WordNetLemmatizer\n",
    "from nltk.stem import PorterStemmer\n",
    "from sklearn import preprocessing\n",
    "from tqdm import tqdm\n",
    "from keras.models import Sequential\n",
    "from keras.layers.recurrent import LSTM, GRU\n",
    "from keras.layers.core import Dense, Activation, Dropout\n",
    "from keras.layers.embeddings import Embedding\n",
    "from keras.layers.normalization import BatchNormalization\n",
    "from keras.utils import np_utils\n",
    "from keras.layers import GlobalMaxPooling1D, Conv1D, MaxPooling1D, Flatten, Bidirectional, SpatialDropout1D\n",
    "from sklearn.model_selection import train_test_split\n",
    "from keras.preprocessing import sequence\n",
    "from keras.preprocessing.text import Tokenizer\n",
    "from keras.callbacks import EarlyStopping\n",
    "import matplotlib.pyplot as plt\n",
    "from nltk.corpus import stopwords\n",
    "stop_words = stopwords.words('english')\n",
    "import tensorflow as tf\n",
    "print(tf.__version__)"
   ]
  },
  {
   "cell_type": "code",
   "execution_count": null,
   "metadata": {
    "executionInfo": {
     "elapsed": 699,
     "status": "aborted",
     "timestamp": 1628763890920,
     "user": {
      "displayName": "Abdul Azim Khan",
      "photoUrl": "",
      "userId": "07649404245608822143"
     },
     "user_tz": -330
    },
    "id": "rwb4LMGftm1X"
   },
   "outputs": [],
   "source": [
    "nltk.download('punkt')\n",
    "nltk.download('wordnet')"
   ]
  },
  {
   "cell_type": "code",
   "execution_count": null,
   "metadata": {
    "executionInfo": {
     "elapsed": 699,
     "status": "aborted",
     "timestamp": 1628763890921,
     "user": {
      "displayName": "Abdul Azim Khan",
      "photoUrl": "",
      "userId": "07649404245608822143"
     },
     "user_tz": -330
    },
    "id": "dUpH46aGGWqM"
   },
   "outputs": [],
   "source": [
    "def getLemmText(text):\n",
    "    tokens=word_tokenize(text)\n",
    "    lemmatizer = WordNetLemmatizer()\n",
    "    tokens=[lemmatizer.lemmatize(word) for word in tokens]\n",
    "    return ' ' .join(tokens)\n",
    "df['text'] = list(map(getLemmText,df['text']))"
   ]
  },
  {
   "cell_type": "code",
   "execution_count": null,
   "metadata": {
    "executionInfo": {
     "elapsed": 700,
     "status": "aborted",
     "timestamp": 1628763890922,
     "user": {
      "displayName": "Abdul Azim Khan",
      "photoUrl": "",
      "userId": "07649404245608822143"
     },
     "user_tz": -330
    },
    "id": "ih0Vy-d_GWvJ"
   },
   "outputs": [],
   "source": [
    "def getStemmText(text):\n",
    "    tokens=word_tokenize(text)\n",
    "    ps = PorterStemmer()\n",
    "    tokens=[ps.stem(word) for word in tokens]\n",
    "    return ' ' .join(tokens)\n",
    "df['text'] = list(map(getStemmText,df['text']))"
   ]
  },
  {
   "cell_type": "code",
   "execution_count": null,
   "metadata": {
    "executionInfo": {
     "elapsed": 701,
     "status": "aborted",
     "timestamp": 1628763890923,
     "user": {
      "displayName": "Abdul Azim Khan",
      "photoUrl": "",
      "userId": "07649404245608822143"
     },
     "user_tz": -330
    },
    "id": "iF2prFFTGWw7"
   },
   "outputs": [],
   "source": [
    "label_encoder = preprocessing.LabelEncoder()\n",
    "labels = label_encoder.fit_transform(df.category.values)\n",
    "np.unique(labels)\n"
   ]
  },
  {
   "cell_type": "code",
   "execution_count": null,
   "metadata": {
    "executionInfo": {
     "elapsed": 47,
     "status": "aborted",
     "timestamp": 1628763890932,
     "user": {
      "displayName": "Abdul Azim Khan",
      "photoUrl": "",
      "userId": "07649404245608822143"
     },
     "user_tz": -330
    },
    "id": "ZT6Ve67aGW2E"
   },
   "outputs": [],
   "source": [
    "X_train, X_test, y_train, y_test = train_test_split(df.text.values, labels, \n",
    " stratify=y, \n",
    " random_state=42, \n",
    " test_size=0.2, shuffle=True)"
   ]
  },
  {
   "cell_type": "code",
   "execution_count": null,
   "metadata": {
    "executionInfo": {
     "elapsed": 47,
     "status": "aborted",
     "timestamp": 1628763890933,
     "user": {
      "displayName": "Abdul Azim Khan",
      "photoUrl": "",
      "userId": "07649404245608822143"
     },
     "user_tz": -330
    },
    "id": "LztQeFwYwwzA"
   },
   "outputs": [],
   "source": [
    "# Downloading glove\n",
    "!wget http://nlp.stanford.edu/data/glove.6B.zip"
   ]
  },
  {
   "cell_type": "code",
   "execution_count": null,
   "metadata": {
    "executionInfo": {
     "elapsed": 48,
     "status": "aborted",
     "timestamp": 1628763890934,
     "user": {
      "displayName": "Abdul Azim Khan",
      "photoUrl": "",
      "userId": "07649404245608822143"
     },
     "user_tz": -330
    },
    "id": "EvN4H2ctxAWo"
   },
   "outputs": [],
   "source": [
    "# Unzipping it\n",
    "!unzip glove*.zip"
   ]
  },
  {
   "cell_type": "code",
   "execution_count": null,
   "metadata": {
    "executionInfo": {
     "elapsed": 47,
     "status": "aborted",
     "timestamp": 1628763890934,
     "user": {
      "displayName": "Abdul Azim Khan",
      "photoUrl": "",
      "userId": "07649404245608822143"
     },
     "user_tz": -330
    },
    "id": "c4sAyGE1xEGY"
   },
   "outputs": [],
   "source": [
    "# The exact extracted path\n",
    "!ls\n",
    "!pwd"
   ]
  },
  {
   "cell_type": "code",
   "execution_count": null,
   "metadata": {
    "executionInfo": {
     "elapsed": 48,
     "status": "aborted",
     "timestamp": 1628763890935,
     "user": {
      "displayName": "Abdul Azim Khan",
      "photoUrl": "",
      "userId": "07649404245608822143"
     },
     "user_tz": -330
    },
    "id": "q-vukiGtGW4T"
   },
   "outputs": [],
   "source": [
    "embeddings_index = {}\n",
    "f = open('glove.6B.100d.txt', encoding='utf-8')\n",
    "for line in tqdm(f):\n",
    "    values = line.split()\n",
    "    word = values[0]\n",
    "    coefs = np.asarray(values[1:], dtype=\"float32\")\n",
    "    embeddings_index[word] = coefs\n",
    "f.close()\n",
    "print(\"Found %s word vectors.\" % len(embeddings_index))"
   ]
  },
  {
   "cell_type": "code",
   "execution_count": null,
   "metadata": {
    "executionInfo": {
     "elapsed": 44,
     "status": "aborted",
     "timestamp": 1628763890935,
     "user": {
      "displayName": "Abdul Azim Khan",
      "photoUrl": "",
      "userId": "07649404245608822143"
     },
     "user_tz": -330
    },
    "id": "_SgMhxXjGW7p"
   },
   "outputs": [],
   "source": [
    "VOCABULARY_SIZE = 2000\n",
    "MAX_LENGTH = 60"
   ]
  },
  {
   "cell_type": "code",
   "execution_count": null,
   "metadata": {
    "executionInfo": {
     "elapsed": 44,
     "status": "aborted",
     "timestamp": 1628763890936,
     "user": {
      "displayName": "Abdul Azim Khan",
      "photoUrl": "",
      "userId": "07649404245608822143"
     },
     "user_tz": -330
    },
    "id": "2HRXtwtUGW-X"
   },
   "outputs": [],
   "source": [
    "tokenizer = Tokenizer(num_words=VOCABULARY_SIZE)\n",
    "tokenizer.fit_on_texts(list(X_train) + list(X_test))"
   ]
  },
  {
   "cell_type": "code",
   "execution_count": null,
   "metadata": {
    "executionInfo": {
     "elapsed": 44,
     "status": "aborted",
     "timestamp": 1628763890936,
     "user": {
      "displayName": "Abdul Azim Khan",
      "photoUrl": "",
      "userId": "07649404245608822143"
     },
     "user_tz": -330
    },
    "id": "GcqAugkiGXBz"
   },
   "outputs": [],
   "source": [
    "X_train_sequence = tokenizer.texts_to_sequences(X_train)\n",
    "X_test_sequence = tokenizer.texts_to_sequences(X_test)"
   ]
  },
  {
   "cell_type": "code",
   "execution_count": null,
   "metadata": {
    "executionInfo": {
     "elapsed": 44,
     "status": "aborted",
     "timestamp": 1628763890937,
     "user": {
      "displayName": "Abdul Azim Khan",
      "photoUrl": "",
      "userId": "07649404245608822143"
     },
     "user_tz": -330
    },
    "id": "YeUJVDhuGXEM"
   },
   "outputs": [],
   "source": [
    "X_train_padding = sequence.pad_sequences(X_train_sequence, maxlen=MAX_LENGTH)\n",
    "X_test_padding = sequence.pad_sequences(X_test_sequence, maxlen=MAX_LENGTH)\n",
    "word_index = tokenizer.word_index"
   ]
  },
  {
   "cell_type": "code",
   "execution_count": null,
   "metadata": {
    "executionInfo": {
     "elapsed": 45,
     "status": "aborted",
     "timestamp": 1628763890938,
     "user": {
      "displayName": "Abdul Azim Khan",
      "photoUrl": "",
      "userId": "07649404245608822143"
     },
     "user_tz": -330
    },
    "id": "QQSKv7LMGXIU"
   },
   "outputs": [],
   "source": [
    "embedding_matrix = np.zeros((len(word_index) + 1, 100))\n",
    "for word, i in tqdm(word_index.items()):\n",
    "    embedding_vector = embeddings_index.get(word)\n",
    "    if embedding_vector is not None:\n",
    "        embedding_matrix[i] = embedding_vector"
   ]
  },
  {
   "cell_type": "code",
   "execution_count": null,
   "metadata": {
    "executionInfo": {
     "elapsed": 44,
     "status": "aborted",
     "timestamp": 1628763890938,
     "user": {
      "displayName": "Abdul Azim Khan",
      "photoUrl": "",
      "userId": "07649404245608822143"
     },
     "user_tz": -330
    },
    "id": "Zl2CGS7PGXKz"
   },
   "outputs": [],
   "source": [
    "model = Sequential()\n",
    "model.add(Embedding(len(word_index) + 1,\n",
    " 100,\n",
    " weights=[embedding_matrix],\n",
    " input_length=MAX_LENGTH,\n",
    " trainable=False))\n",
    "model.add(SpatialDropout1D(0.3))\n",
    "model.add(Bidirectional(LSTM(100, dropout=0.3, recurrent_dropout=0.3)))\n",
    "model.add(Dense(1024, activation='relu'))\n",
    "model.add(Dropout(0.9))\n",
    "model.add(Dense(1024, activation='relu'))\n",
    "model.add(Dropout(0.8))\n",
    "model.add(Dense(1024, activation='relu'))\n",
    "model.add(Dropout(0.6))\n",
    "model.add(Dense(1024, activation='relu'))\n",
    "model.add(Dropout(0.4))\n",
    "model.add(Dense(1024, activation='relu'))\n",
    "model.add(Dropout(0.4))\n",
    "\n",
    "model.add(Dense(5))\n",
    "model.add(Activation('softmax'))\n",
    "model.compile(loss='categorical_crossentropy', optimizer='adam', metrics=['accuracy'])"
   ]
  },
  {
   "cell_type": "code",
   "execution_count": null,
   "metadata": {
    "executionInfo": {
     "elapsed": 45,
     "status": "aborted",
     "timestamp": 1628763890939,
     "user": {
      "displayName": "Abdul Azim Khan",
      "photoUrl": "",
      "userId": "07649404245608822143"
     },
     "user_tz": -330
    },
    "id": "YYS0tWOmGXOp"
   },
   "outputs": [],
   "source": [
    "y_train_encode = np_utils.to_categorical(y_train)\n",
    "y_test_encode = np_utils.to_categorical(y_test)"
   ]
  },
  {
   "cell_type": "code",
   "execution_count": null,
   "metadata": {
    "executionInfo": {
     "elapsed": 44,
     "status": "aborted",
     "timestamp": 1628763890939,
     "user": {
      "displayName": "Abdul Azim Khan",
      "photoUrl": "",
      "userId": "07649404245608822143"
     },
     "user_tz": -330
    },
    "id": "rRvngjaeGXRA"
   },
   "outputs": [],
   "source": [
    "history = model.fit( x=X_train_padding, y=y_train_encode, batch_size=256, epochs=20, verbose=1, validation_data=(X_test_padding, y_test_encode))"
   ]
  },
  {
   "cell_type": "code",
   "execution_count": null,
   "metadata": {
    "executionInfo": {
     "elapsed": 46,
     "status": "aborted",
     "timestamp": 1628763890941,
     "user": {
      "displayName": "Abdul Azim Khan",
      "photoUrl": "",
      "userId": "07649404245608822143"
     },
     "user_tz": -330
    },
    "id": "E3Rr9uBuGXVJ"
   },
   "outputs": [],
   "source": [
    "def graph_plots(history, string):\n",
    "    plt.plot(history.history[string])\n",
    "    plt.plot(history.history['val_'+string])\n",
    "    plt.xlabel(\"Epochs\")\n",
    "    plt.ylabel(string)\n",
    "    plt.legend([string, 'val_'+string])\n",
    "    plt.show()\n",
    " \n",
    "\n",
    " graph_plots(history, \"accuracy\")\n",
    "    graph_plots(history, \"loss\")"
   ]
  },
  {
   "cell_type": "code",
   "execution_count": null,
   "metadata": {
    "executionInfo": {
     "elapsed": 47,
     "status": "aborted",
     "timestamp": 1628763890942,
     "user": {
      "displayName": "Abdul Azim Khan",
      "photoUrl": "",
      "userId": "07649404245608822143"
     },
     "user_tz": -330
    },
    "id": "zBBR_OjyGXXf"
   },
   "outputs": [],
   "source": []
  },
  {
   "cell_type": "code",
   "execution_count": null,
   "metadata": {
    "executionInfo": {
     "elapsed": 47,
     "status": "aborted",
     "timestamp": 1628763890943,
     "user": {
      "displayName": "Abdul Azim Khan",
      "photoUrl": "",
      "userId": "07649404245608822143"
     },
     "user_tz": -330
    },
    "id": "VZ69gVSkGXc5"
   },
   "outputs": [],
   "source": []
  },
  {
   "cell_type": "code",
   "execution_count": null,
   "metadata": {
    "executionInfo": {
     "elapsed": 47,
     "status": "aborted",
     "timestamp": 1628763890943,
     "user": {
      "displayName": "Abdul Azim Khan",
      "photoUrl": "",
      "userId": "07649404245608822143"
     },
     "user_tz": -330
    },
    "id": "MrgnuMtIGXfB"
   },
   "outputs": [],
   "source": []
  },
  {
   "cell_type": "code",
   "execution_count": null,
   "metadata": {
    "executionInfo": {
     "elapsed": 47,
     "status": "aborted",
     "timestamp": 1628763890944,
     "user": {
      "displayName": "Abdul Azim Khan",
      "photoUrl": "",
      "userId": "07649404245608822143"
     },
     "user_tz": -330
    },
    "id": "SdcIDeOMGXie"
   },
   "outputs": [],
   "source": []
  },
  {
   "cell_type": "code",
   "execution_count": null,
   "metadata": {
    "executionInfo": {
     "elapsed": 48,
     "status": "aborted",
     "timestamp": 1628763890945,
     "user": {
      "displayName": "Abdul Azim Khan",
      "photoUrl": "",
      "userId": "07649404245608822143"
     },
     "user_tz": -330
    },
    "id": "drDuOWezGXku"
   },
   "outputs": [],
   "source": []
  },
  {
   "cell_type": "code",
   "execution_count": null,
   "metadata": {
    "executionInfo": {
     "elapsed": 48,
     "status": "aborted",
     "timestamp": 1628763890946,
     "user": {
      "displayName": "Abdul Azim Khan",
      "photoUrl": "",
      "userId": "07649404245608822143"
     },
     "user_tz": -330
    },
    "id": "MnoVBVA4GXpe"
   },
   "outputs": [],
   "source": []
  },
  {
   "cell_type": "code",
   "execution_count": null,
   "metadata": {
    "executionInfo": {
     "elapsed": 48,
     "status": "aborted",
     "timestamp": 1628763890946,
     "user": {
      "displayName": "Abdul Azim Khan",
      "photoUrl": "",
      "userId": "07649404245608822143"
     },
     "user_tz": -330
    },
    "id": "5OBCLUoeGXrS"
   },
   "outputs": [],
   "source": []
  },
  {
   "cell_type": "code",
   "execution_count": null,
   "metadata": {
    "executionInfo": {
     "elapsed": 48,
     "status": "aborted",
     "timestamp": 1628763890947,
     "user": {
      "displayName": "Abdul Azim Khan",
      "photoUrl": "",
      "userId": "07649404245608822143"
     },
     "user_tz": -330
    },
    "id": "NWjsBQynGXvf"
   },
   "outputs": [],
   "source": []
  },
  {
   "cell_type": "code",
   "execution_count": null,
   "metadata": {
    "executionInfo": {
     "elapsed": 48,
     "status": "aborted",
     "timestamp": 1628763890948,
     "user": {
      "displayName": "Abdul Azim Khan",
      "photoUrl": "",
      "userId": "07649404245608822143"
     },
     "user_tz": -330
    },
    "id": "Xy3GHNPGGXx6"
   },
   "outputs": [],
   "source": []
  },
  {
   "cell_type": "code",
   "execution_count": null,
   "metadata": {
    "executionInfo": {
     "elapsed": 46,
     "status": "aborted",
     "timestamp": 1628763890948,
     "user": {
      "displayName": "Abdul Azim Khan",
      "photoUrl": "",
      "userId": "07649404245608822143"
     },
     "user_tz": -330
    },
    "id": "u8d2pMEqGX2-"
   },
   "outputs": [],
   "source": []
  }
 ],
 "metadata": {
  "colab": {
   "authorship_tag": "ABX9TyMyAAWrTqoIAv5fvzn5SGXc",
   "collapsed_sections": [],
   "mount_file_id": "1dHppQOfTZgSThXhzfWQMkKh05cgy04jS",
   "name": "News_Category_classifiction.ipynb",
   "provenance": []
  },
  "kernelspec": {
   "display_name": "Python 3",
   "language": "python",
   "name": "python3"
  },
  "language_info": {
   "codemirror_mode": {
    "name": "ipython",
    "version": 3
   },
   "file_extension": ".py",
   "mimetype": "text/x-python",
   "name": "python",
   "nbconvert_exporter": "python",
   "pygments_lexer": "ipython3",
   "version": "3.8.5"
  }
 },
 "nbformat": 4,
 "nbformat_minor": 1
}
